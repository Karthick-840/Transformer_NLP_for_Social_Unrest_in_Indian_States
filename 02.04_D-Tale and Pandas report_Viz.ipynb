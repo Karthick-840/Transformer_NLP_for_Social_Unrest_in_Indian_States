{
 "cells": [
  {
   "cell_type": "code",
   "execution_count": null,
   "metadata": {
    "scrolled": true
   },
   "outputs": [],
   "source": [
    "!pip install --user numpy==1.21.6\n",
    "!pip install --ignore-installed six\n",
    "!pip install --user pandas-profiling"
   ]
  },
  {
   "cell_type": "code",
   "execution_count": 4,
   "metadata": {},
   "outputs": [
    {
     "name": "stderr",
     "output_type": "stream",
     "text": [
      "/usr/local/anaconda/lib/python3.7/site-packages/pandas/compat/_optional.py:138: UserWarning: Pandas requires version '2.7.0' or newer of 'numexpr' (version '2.6.9' currently installed).\n",
      "  warnings.warn(msg, UserWarning)\n"
     ]
    }
   ],
   "source": [
    "import pandas as pd\n",
    "import numpy as np\n",
    "from pandas_profiling import ProfileReport"
   ]
  },
  {
   "cell_type": "code",
   "execution_count": 2,
   "metadata": {},
   "outputs": [
    {
     "name": "stderr",
     "output_type": "stream",
     "text": [
      "/usr/local/anaconda/lib/python3.7/site-packages/sklearn/feature_extraction/image.py:167: DeprecationWarning: `np.int` is a deprecated alias for the builtin `int`. To silence this warning, use `int` by itself. Doing this will not modify any behavior and is safe. When replacing `np.int`, you may wish to use e.g. `np.int64` or `np.int32` to specify the precision. If you wish to review your current use, check the release note link for additional information.\n",
      "Deprecated in NumPy 1.20; for more details and guidance: https://numpy.org/devdocs/release/1.20.0-notes.html#deprecations\n",
      "  dtype=np.int):\n"
     ]
    }
   ],
   "source": [
    "from sklearn.datasets import load_diabetes"
   ]
  },
  {
   "cell_type": "code",
   "execution_count": 5,
   "metadata": {},
   "outputs": [
    {
     "data": {
      "text/html": [
       "<div>\n",
       "<style scoped>\n",
       "    .dataframe tbody tr th:only-of-type {\n",
       "        vertical-align: middle;\n",
       "    }\n",
       "\n",
       "    .dataframe tbody tr th {\n",
       "        vertical-align: top;\n",
       "    }\n",
       "\n",
       "    .dataframe thead th {\n",
       "        text-align: right;\n",
       "    }\n",
       "</style>\n",
       "<table border=\"1\" class=\"dataframe\">\n",
       "  <thead>\n",
       "    <tr style=\"text-align: right;\">\n",
       "      <th></th>\n",
       "      <th>age</th>\n",
       "      <th>sex</th>\n",
       "      <th>bmi</th>\n",
       "      <th>bp</th>\n",
       "      <th>s1</th>\n",
       "      <th>s2</th>\n",
       "      <th>s3</th>\n",
       "      <th>s4</th>\n",
       "      <th>s5</th>\n",
       "      <th>s6</th>\n",
       "    </tr>\n",
       "  </thead>\n",
       "  <tbody>\n",
       "    <tr>\n",
       "      <th>0</th>\n",
       "      <td>0.038076</td>\n",
       "      <td>0.050680</td>\n",
       "      <td>0.061696</td>\n",
       "      <td>0.021872</td>\n",
       "      <td>-0.044223</td>\n",
       "      <td>-0.034821</td>\n",
       "      <td>-0.043401</td>\n",
       "      <td>-0.002592</td>\n",
       "      <td>0.019908</td>\n",
       "      <td>-0.017646</td>\n",
       "    </tr>\n",
       "    <tr>\n",
       "      <th>1</th>\n",
       "      <td>-0.001882</td>\n",
       "      <td>-0.044642</td>\n",
       "      <td>-0.051474</td>\n",
       "      <td>-0.026328</td>\n",
       "      <td>-0.008449</td>\n",
       "      <td>-0.019163</td>\n",
       "      <td>0.074412</td>\n",
       "      <td>-0.039493</td>\n",
       "      <td>-0.068330</td>\n",
       "      <td>-0.092204</td>\n",
       "    </tr>\n",
       "    <tr>\n",
       "      <th>2</th>\n",
       "      <td>0.085299</td>\n",
       "      <td>0.050680</td>\n",
       "      <td>0.044451</td>\n",
       "      <td>-0.005671</td>\n",
       "      <td>-0.045599</td>\n",
       "      <td>-0.034194</td>\n",
       "      <td>-0.032356</td>\n",
       "      <td>-0.002592</td>\n",
       "      <td>0.002864</td>\n",
       "      <td>-0.025930</td>\n",
       "    </tr>\n",
       "    <tr>\n",
       "      <th>3</th>\n",
       "      <td>-0.089063</td>\n",
       "      <td>-0.044642</td>\n",
       "      <td>-0.011595</td>\n",
       "      <td>-0.036656</td>\n",
       "      <td>0.012191</td>\n",
       "      <td>0.024991</td>\n",
       "      <td>-0.036038</td>\n",
       "      <td>0.034309</td>\n",
       "      <td>0.022692</td>\n",
       "      <td>-0.009362</td>\n",
       "    </tr>\n",
       "    <tr>\n",
       "      <th>4</th>\n",
       "      <td>0.005383</td>\n",
       "      <td>-0.044642</td>\n",
       "      <td>-0.036385</td>\n",
       "      <td>0.021872</td>\n",
       "      <td>0.003935</td>\n",
       "      <td>0.015596</td>\n",
       "      <td>0.008142</td>\n",
       "      <td>-0.002592</td>\n",
       "      <td>-0.031991</td>\n",
       "      <td>-0.046641</td>\n",
       "    </tr>\n",
       "    <tr>\n",
       "      <th>5</th>\n",
       "      <td>-0.092695</td>\n",
       "      <td>-0.044642</td>\n",
       "      <td>-0.040696</td>\n",
       "      <td>-0.019442</td>\n",
       "      <td>-0.068991</td>\n",
       "      <td>-0.079288</td>\n",
       "      <td>0.041277</td>\n",
       "      <td>-0.076395</td>\n",
       "      <td>-0.041180</td>\n",
       "      <td>-0.096346</td>\n",
       "    </tr>\n",
       "    <tr>\n",
       "      <th>6</th>\n",
       "      <td>-0.045472</td>\n",
       "      <td>0.050680</td>\n",
       "      <td>-0.047163</td>\n",
       "      <td>-0.015999</td>\n",
       "      <td>-0.040096</td>\n",
       "      <td>-0.024800</td>\n",
       "      <td>0.000779</td>\n",
       "      <td>-0.039493</td>\n",
       "      <td>-0.062913</td>\n",
       "      <td>-0.038357</td>\n",
       "    </tr>\n",
       "    <tr>\n",
       "      <th>7</th>\n",
       "      <td>0.063504</td>\n",
       "      <td>0.050680</td>\n",
       "      <td>-0.001895</td>\n",
       "      <td>0.066630</td>\n",
       "      <td>0.090620</td>\n",
       "      <td>0.108914</td>\n",
       "      <td>0.022869</td>\n",
       "      <td>0.017703</td>\n",
       "      <td>-0.035817</td>\n",
       "      <td>0.003064</td>\n",
       "    </tr>\n",
       "    <tr>\n",
       "      <th>8</th>\n",
       "      <td>0.041708</td>\n",
       "      <td>0.050680</td>\n",
       "      <td>0.061696</td>\n",
       "      <td>-0.040099</td>\n",
       "      <td>-0.013953</td>\n",
       "      <td>0.006202</td>\n",
       "      <td>-0.028674</td>\n",
       "      <td>-0.002592</td>\n",
       "      <td>-0.014956</td>\n",
       "      <td>0.011349</td>\n",
       "    </tr>\n",
       "    <tr>\n",
       "      <th>9</th>\n",
       "      <td>-0.070900</td>\n",
       "      <td>-0.044642</td>\n",
       "      <td>0.039062</td>\n",
       "      <td>-0.033214</td>\n",
       "      <td>-0.012577</td>\n",
       "      <td>-0.034508</td>\n",
       "      <td>-0.024993</td>\n",
       "      <td>-0.002592</td>\n",
       "      <td>0.067736</td>\n",
       "      <td>-0.013504</td>\n",
       "    </tr>\n",
       "  </tbody>\n",
       "</table>\n",
       "</div>"
      ],
      "text/plain": [
       "        age       sex       bmi        bp        s1        s2        s3  \\\n",
       "0  0.038076  0.050680  0.061696  0.021872 -0.044223 -0.034821 -0.043401   \n",
       "1 -0.001882 -0.044642 -0.051474 -0.026328 -0.008449 -0.019163  0.074412   \n",
       "2  0.085299  0.050680  0.044451 -0.005671 -0.045599 -0.034194 -0.032356   \n",
       "3 -0.089063 -0.044642 -0.011595 -0.036656  0.012191  0.024991 -0.036038   \n",
       "4  0.005383 -0.044642 -0.036385  0.021872  0.003935  0.015596  0.008142   \n",
       "5 -0.092695 -0.044642 -0.040696 -0.019442 -0.068991 -0.079288  0.041277   \n",
       "6 -0.045472  0.050680 -0.047163 -0.015999 -0.040096 -0.024800  0.000779   \n",
       "7  0.063504  0.050680 -0.001895  0.066630  0.090620  0.108914  0.022869   \n",
       "8  0.041708  0.050680  0.061696 -0.040099 -0.013953  0.006202 -0.028674   \n",
       "9 -0.070900 -0.044642  0.039062 -0.033214 -0.012577 -0.034508 -0.024993   \n",
       "\n",
       "         s4        s5        s6  \n",
       "0 -0.002592  0.019908 -0.017646  \n",
       "1 -0.039493 -0.068330 -0.092204  \n",
       "2 -0.002592  0.002864 -0.025930  \n",
       "3  0.034309  0.022692 -0.009362  \n",
       "4 -0.002592 -0.031991 -0.046641  \n",
       "5 -0.076395 -0.041180 -0.096346  \n",
       "6 -0.039493 -0.062913 -0.038357  \n",
       "7  0.017703 -0.035817  0.003064  \n",
       "8 -0.002592 -0.014956  0.011349  \n",
       "9 -0.002592  0.067736 -0.013504  "
      ]
     },
     "execution_count": 5,
     "metadata": {},
     "output_type": "execute_result"
    }
   ],
   "source": [
    "diab = load_diabetes()\n",
    "df = pd.DataFrame(data=diab.data,columns=diab.feature_names)\n",
    "df.head(10)"
   ]
  },
  {
   "cell_type": "code",
   "execution_count": null,
   "metadata": {},
   "outputs": [],
   "source": []
  },
  {
   "cell_type": "code",
   "execution_count": null,
   "metadata": {},
   "outputs": [],
   "source": [
    "\n",
    "profile = ProfileReport(df,title=\"Pandas Profiling Report\",explorative=True)"
   ]
  },
  {
   "cell_type": "code",
   "execution_count": null,
   "metadata": {},
   "outputs": [],
   "source": [
    "profile.to-widgets()\n",
    "profile.to_file('Output.html')"
   ]
  },
  {
   "cell_type": "code",
   "execution_count": 7,
   "metadata": {
    "scrolled": true
   },
   "outputs": [
    {
     "name": "stdout",
     "output_type": "stream",
     "text": [
      "Collecting pandas_visual_analysis\n",
      "  Downloading https://files.pythonhosted.org/packages/d5/3a/e91c3df844cabb7807598ee6499447d3d6a440adf48caed5042a6b3f4a07/pandas_visual_analysis-0.0.4-py3-none-any.whl\n",
      "Requirement already satisfied: pandas>=1.1.0 in /usr/local/anaconda/lib/python3.7/site-packages (from pandas_visual_analysis) (1.3.5)\n",
      "Collecting ipywidgets>=7.5.1\n",
      "\u001b[?25l  Downloading https://files.pythonhosted.org/packages/e4/56/990c10ca8751182ace2464cb0e4baafb7087a40c185c9142b9cd18683fac/ipywidgets-8.0.2-py3-none-any.whl (134kB)\n",
      "\u001b[K     |████████████████████████████████| 143kB 60.6MB/s eta 0:00:01\n",
      "\u001b[?25hCollecting setuptools>=49.2.0\n",
      "\u001b[?25l  Downloading https://files.pythonhosted.org/packages/d9/5f/2daccd14278b6b780ae6799f85998377c06019354982391245f4b58a927d/setuptools-65.3.0-py3-none-any.whl (1.2MB)\n",
      "\u001b[K     |████████████████████████████████| 1.2MB 54.8MB/s eta 0:00:01\n",
      "\u001b[?25hRequirement already satisfied: numpy>=1.19.1 in /home/ubuntu/.local/lib/python3.7/site-packages (from pandas_visual_analysis) (1.21.6)\n",
      "Collecting plotly>=4.10.0\n",
      "\u001b[?25l  Downloading https://files.pythonhosted.org/packages/5f/43/6e86a1e1910d434f068a8e032a3cc77ce862f1688776793a6735e5712fd9/plotly-5.10.0-py2.py3-none-any.whl (15.2MB)\n",
      "\u001b[K     |████████████████████████████████| 15.2MB 48.5MB/s eta 0:00:01\n",
      "\u001b[?25hCollecting blinker>=1.4\n",
      "  Downloading https://files.pythonhosted.org/packages/30/41/caa5da2dbe6d26029dfe11d31dfa8132b4d6d30b6d6b61a24824075a5f06/blinker-1.5-py2.py3-none-any.whl\n",
      "Requirement already satisfied: pytz>=2017.3 in /usr/local/anaconda/lib/python3.7/site-packages (from pandas>=1.1.0->pandas_visual_analysis) (2018.9)\n",
      "Requirement already satisfied: python-dateutil>=2.7.3 in /usr/local/anaconda/lib/python3.7/site-packages (from pandas>=1.1.0->pandas_visual_analysis) (2.8.0)\n",
      "Collecting widgetsnbextension~=4.0\n",
      "\u001b[?25l  Downloading https://files.pythonhosted.org/packages/d7/ae/ee70b20dc836d935a9a6483339854c09d8752e55a8104668e2426cf3baf3/widgetsnbextension-4.0.3-py3-none-any.whl (2.0MB)\n",
      "\u001b[K     |████████████████████████████████| 2.0MB 43.8MB/s eta 0:00:01\n",
      "\u001b[?25hRequirement already satisfied: ipykernel>=4.5.1 in /usr/local/anaconda/lib/python3.7/site-packages (from ipywidgets>=7.5.1->pandas_visual_analysis) (5.1.0)\n",
      "Requirement already satisfied: ipython>=6.1.0 in /usr/local/anaconda/lib/python3.7/site-packages (from ipywidgets>=7.5.1->pandas_visual_analysis) (7.4.0)\n",
      "Requirement already satisfied: traitlets>=4.3.1 in /usr/local/anaconda/lib/python3.7/site-packages (from ipywidgets>=7.5.1->pandas_visual_analysis) (4.3.2)\n",
      "Collecting jupyterlab-widgets~=3.0\n",
      "\u001b[?25l  Downloading https://files.pythonhosted.org/packages/d8/52/2f4b8f5975312fb58f4eacab2e6f6cfd2efd05704514a60a151a4e69d608/jupyterlab_widgets-3.0.3-py3-none-any.whl (384kB)\n",
      "\u001b[K     |████████████████████████████████| 389kB 80.7MB/s eta 0:00:01\n",
      "\u001b[?25hCollecting tenacity>=6.2.0\n",
      "  Downloading https://files.pythonhosted.org/packages/f2/a5/f86bc8d67c979020438c8559cc70cfe3a1643fd160d35e09c9cca6a09189/tenacity-8.0.1-py3-none-any.whl\n",
      "Requirement already satisfied: six>=1.5 in /usr/local/anaconda/lib/python3.7/site-packages (from python-dateutil>=2.7.3->pandas>=1.1.0->pandas_visual_analysis) (1.16.0)\n",
      "Requirement already satisfied: jupyter-client in /usr/local/anaconda/lib/python3.7/site-packages (from ipykernel>=4.5.1->ipywidgets>=7.5.1->pandas_visual_analysis) (5.2.4)\n",
      "Requirement already satisfied: tornado>=4.2 in /usr/local/anaconda/lib/python3.7/site-packages (from ipykernel>=4.5.1->ipywidgets>=7.5.1->pandas_visual_analysis) (5.1.1)\n",
      "Requirement already satisfied: prompt-toolkit<2.1.0,>=2.0.0 in /usr/local/anaconda/lib/python3.7/site-packages (from ipython>=6.1.0->ipywidgets>=7.5.1->pandas_visual_analysis) (2.0.9)\n",
      "Requirement already satisfied: jedi>=0.10 in /usr/local/anaconda/lib/python3.7/site-packages (from ipython>=6.1.0->ipywidgets>=7.5.1->pandas_visual_analysis) (0.13.3)\n",
      "Requirement already satisfied: backcall in /usr/local/anaconda/lib/python3.7/site-packages (from ipython>=6.1.0->ipywidgets>=7.5.1->pandas_visual_analysis) (0.1.0)\n",
      "Requirement already satisfied: pexpect; sys_platform != \"win32\" in /usr/local/anaconda/lib/python3.7/site-packages (from ipython>=6.1.0->ipywidgets>=7.5.1->pandas_visual_analysis) (4.6.0)\n",
      "Requirement already satisfied: decorator in /usr/local/anaconda/lib/python3.7/site-packages (from ipython>=6.1.0->ipywidgets>=7.5.1->pandas_visual_analysis) (4.4.0)\n",
      "Requirement already satisfied: pygments in /usr/local/anaconda/lib/python3.7/site-packages (from ipython>=6.1.0->ipywidgets>=7.5.1->pandas_visual_analysis) (2.3.1)\n",
      "Requirement already satisfied: pickleshare in /usr/local/anaconda/lib/python3.7/site-packages (from ipython>=6.1.0->ipywidgets>=7.5.1->pandas_visual_analysis) (0.7.5)\n",
      "Requirement already satisfied: ipython-genutils in /usr/local/anaconda/lib/python3.7/site-packages (from traitlets>=4.3.1->ipywidgets>=7.5.1->pandas_visual_analysis) (0.2.0)\n",
      "Requirement already satisfied: jupyter-core in /usr/local/anaconda/lib/python3.7/site-packages (from jupyter-client->ipykernel>=4.5.1->ipywidgets>=7.5.1->pandas_visual_analysis) (4.4.0)\n",
      "Requirement already satisfied: pyzmq>=13 in /usr/local/anaconda/lib/python3.7/site-packages (from jupyter-client->ipykernel>=4.5.1->ipywidgets>=7.5.1->pandas_visual_analysis) (18.0.0)\n",
      "Requirement already satisfied: wcwidth in /usr/local/anaconda/lib/python3.7/site-packages (from prompt-toolkit<2.1.0,>=2.0.0->ipython>=6.1.0->ipywidgets>=7.5.1->pandas_visual_analysis) (0.1.7)\n",
      "Requirement already satisfied: parso>=0.3.0 in /usr/local/anaconda/lib/python3.7/site-packages (from jedi>=0.10->ipython>=6.1.0->ipywidgets>=7.5.1->pandas_visual_analysis) (0.3.4)\n",
      "Requirement already satisfied: ptyprocess>=0.5 in /usr/local/anaconda/lib/python3.7/site-packages (from pexpect; sys_platform != \"win32\"->ipython>=6.1.0->ipywidgets>=7.5.1->pandas_visual_analysis) (0.6.0)\n",
      "Installing collected packages: widgetsnbextension, jupyterlab-widgets, ipywidgets, setuptools, tenacity, plotly, blinker, pandas-visual-analysis\n",
      "Successfully installed blinker-1.5 ipywidgets-8.0.2 jupyterlab-widgets-3.0.3 pandas-visual-analysis-0.0.4 plotly-5.10.0 setuptools-65.3.0 tenacity-8.0.1 widgetsnbextension-4.0.3\n"
     ]
    }
   ],
   "source": [
    "!pip install --user pandas_visual_analysis"
   ]
  },
  {
   "cell_type": "code",
   "execution_count": 10,
   "metadata": {},
   "outputs": [],
   "source": [
    "import seaborn as sns\n",
    "from pandas_visual_analysis import VisualAnalysis"
   ]
  },
  {
   "cell_type": "code",
   "execution_count": 12,
   "metadata": {},
   "outputs": [
    {
     "ename": "AttributeError",
     "evalue": "module 'ipywidgets' has no attribute 'GridspecLayout'",
     "output_type": "error",
     "traceback": [
      "\u001b[0;31m---------------------------------------------------------------------------\u001b[0m",
      "\u001b[0;31mAttributeError\u001b[0m                            Traceback (most recent call last)",
      "\u001b[0;32m/usr/local/anaconda/lib/python3.7/site-packages/IPython/core/formatters.py\u001b[0m in \u001b[0;36m__call__\u001b[0;34m(self, obj)\u001b[0m\n\u001b[1;32m    916\u001b[0m             \u001b[0mmethod\u001b[0m \u001b[0;34m=\u001b[0m \u001b[0mget_real_method\u001b[0m\u001b[0;34m(\u001b[0m\u001b[0mobj\u001b[0m\u001b[0;34m,\u001b[0m \u001b[0mself\u001b[0m\u001b[0;34m.\u001b[0m\u001b[0mprint_method\u001b[0m\u001b[0;34m)\u001b[0m\u001b[0;34m\u001b[0m\u001b[0;34m\u001b[0m\u001b[0m\n\u001b[1;32m    917\u001b[0m             \u001b[0;32mif\u001b[0m \u001b[0mmethod\u001b[0m \u001b[0;32mis\u001b[0m \u001b[0;32mnot\u001b[0m \u001b[0;32mNone\u001b[0m\u001b[0;34m:\u001b[0m\u001b[0;34m\u001b[0m\u001b[0;34m\u001b[0m\u001b[0m\n\u001b[0;32m--> 918\u001b[0;31m                 \u001b[0mmethod\u001b[0m\u001b[0;34m(\u001b[0m\u001b[0;34m)\u001b[0m\u001b[0;34m\u001b[0m\u001b[0;34m\u001b[0m\u001b[0m\n\u001b[0m\u001b[1;32m    919\u001b[0m                 \u001b[0;32mreturn\u001b[0m \u001b[0;32mTrue\u001b[0m\u001b[0;34m\u001b[0m\u001b[0;34m\u001b[0m\u001b[0m\n\u001b[1;32m    920\u001b[0m \u001b[0;34m\u001b[0m\u001b[0m\n",
      "\u001b[0;32m~/.local/lib/python3.7/site-packages/pandas_visual_analysis/visual_analysis.py\u001b[0m in \u001b[0;36m_ipython_display_\u001b[0;34m(self)\u001b[0m\n\u001b[1;32m    129\u001b[0m         \u001b[0;32mfrom\u001b[0m \u001b[0mipywidgets\u001b[0m \u001b[0;32mimport\u001b[0m \u001b[0mwidgets\u001b[0m\u001b[0;34m\u001b[0m\u001b[0;34m\u001b[0m\u001b[0m\n\u001b[1;32m    130\u001b[0m \u001b[0;34m\u001b[0m\u001b[0m\n\u001b[0;32m--> 131\u001b[0;31m         \u001b[0mroot_widget\u001b[0m\u001b[0;34m:\u001b[0m \u001b[0mwidgets\u001b[0m\u001b[0;34m.\u001b[0m\u001b[0mWidget\u001b[0m \u001b[0;34m=\u001b[0m \u001b[0mself\u001b[0m\u001b[0;34m.\u001b[0m\u001b[0mlayout\u001b[0m\u001b[0;34m.\u001b[0m\u001b[0mbuild\u001b[0m\u001b[0;34m(\u001b[0m\u001b[0;34m)\u001b[0m\u001b[0;34m\u001b[0m\u001b[0;34m\u001b[0m\u001b[0m\n\u001b[0m\u001b[1;32m    132\u001b[0m         \u001b[0;31m# noinspection PyTypeChecker\u001b[0m\u001b[0;34m\u001b[0m\u001b[0;34m\u001b[0m\u001b[0;34m\u001b[0m\u001b[0m\n\u001b[1;32m    133\u001b[0m         \u001b[0mdisplay\u001b[0m\u001b[0;34m(\u001b[0m\u001b[0mroot_widget\u001b[0m\u001b[0;34m)\u001b[0m\u001b[0;34m\u001b[0m\u001b[0;34m\u001b[0m\u001b[0m\n",
      "\u001b[0;32m~/.local/lib/python3.7/site-packages/pandas_visual_analysis/layout.py\u001b[0m in \u001b[0;36mbuild\u001b[0;34m(self)\u001b[0m\n\u001b[1;32m    108\u001b[0m                 \u001b[0mwidget_cls\u001b[0m\u001b[0;34m:\u001b[0m \u001b[0mBaseWidget\u001b[0m\u001b[0;34m.\u001b[0m\u001b[0m__class__\u001b[0m \u001b[0;34m=\u001b[0m \u001b[0mwcr\u001b[0m\u001b[0;34m.\u001b[0m\u001b[0mget_widget_class\u001b[0m\u001b[0;34m(\u001b[0m\u001b[0mwidget_name\u001b[0m\u001b[0;34m)\u001b[0m\u001b[0;34m\u001b[0m\u001b[0;34m\u001b[0m\u001b[0m\n\u001b[1;32m    109\u001b[0m                 widget = widget_cls(\n\u001b[0;32m--> 110\u001b[0;31m                     \u001b[0mself\u001b[0m\u001b[0;34m.\u001b[0m\u001b[0mdata_source\u001b[0m\u001b[0;34m,\u001b[0m \u001b[0mr\u001b[0m\u001b[0;34m,\u001b[0m \u001b[0mi\u001b[0m\u001b[0;34m,\u001b[0m \u001b[0;36m1.0\u001b[0m \u001b[0;34m/\u001b[0m \u001b[0mlen\u001b[0m\u001b[0;34m(\u001b[0m\u001b[0mrow\u001b[0m\u001b[0;34m)\u001b[0m\u001b[0;34m,\u001b[0m \u001b[0mcurrent_row_height\u001b[0m\u001b[0;34m\u001b[0m\u001b[0;34m\u001b[0m\u001b[0m\n\u001b[0m\u001b[1;32m    111\u001b[0m                 )\n\u001b[1;32m    112\u001b[0m                 \u001b[0mrow_widgets\u001b[0m\u001b[0;34m.\u001b[0m\u001b[0mappend\u001b[0m\u001b[0;34m(\u001b[0m\u001b[0mwidget\u001b[0m\u001b[0;34m.\u001b[0m\u001b[0mbuild\u001b[0m\u001b[0;34m(\u001b[0m\u001b[0;34m)\u001b[0m\u001b[0;34m)\u001b[0m\u001b[0;34m\u001b[0m\u001b[0;34m\u001b[0m\u001b[0m\n",
      "\u001b[0;32m~/.local/lib/python3.7/site-packages/pandas_visual_analysis/widgets/brush_summary.py\u001b[0m in \u001b[0;36m__init__\u001b[0;34m(self, data_source, row, index, relative_size, max_height)\u001b[0m\n\u001b[1;32m     60\u001b[0m         \u001b[0mself\u001b[0m\u001b[0;34m.\u001b[0m\u001b[0mnum_grid_columns\u001b[0m \u001b[0;34m=\u001b[0m \u001b[0;36m4\u001b[0m\u001b[0;34m\u001b[0m\u001b[0;34m\u001b[0m\u001b[0m\n\u001b[1;32m     61\u001b[0m         \u001b[0mself\u001b[0m\u001b[0;34m.\u001b[0m\u001b[0mnum_grid_rows\u001b[0m \u001b[0;34m=\u001b[0m \u001b[0mlen\u001b[0m\u001b[0;34m(\u001b[0m\u001b[0mself\u001b[0m\u001b[0;34m.\u001b[0m\u001b[0mcolumns\u001b[0m\u001b[0;34m)\u001b[0m \u001b[0;34m+\u001b[0m \u001b[0;36m1\u001b[0m  \u001b[0;31m# + 1 for count\u001b[0m\u001b[0;34m\u001b[0m\u001b[0;34m\u001b[0m\u001b[0m\n\u001b[0;32m---> 62\u001b[0;31m         \u001b[0mself\u001b[0m\u001b[0;34m.\u001b[0m\u001b[0mgrid\u001b[0m \u001b[0;34m=\u001b[0m \u001b[0mwidgets\u001b[0m\u001b[0;34m.\u001b[0m\u001b[0mGridspecLayout\u001b[0m\u001b[0;34m(\u001b[0m\u001b[0mself\u001b[0m\u001b[0;34m.\u001b[0m\u001b[0mnum_grid_rows\u001b[0m\u001b[0;34m,\u001b[0m \u001b[0mself\u001b[0m\u001b[0;34m.\u001b[0m\u001b[0mnum_grid_columns\u001b[0m\u001b[0;34m)\u001b[0m\u001b[0;34m\u001b[0m\u001b[0;34m\u001b[0m\u001b[0m\n\u001b[0m\u001b[1;32m     63\u001b[0m         \u001b[0mself\u001b[0m\u001b[0;34m.\u001b[0m\u001b[0mgrid\u001b[0m\u001b[0;34m.\u001b[0m\u001b[0mlayout\u001b[0m\u001b[0;34m.\u001b[0m\u001b[0mheight\u001b[0m \u001b[0;34m=\u001b[0m \u001b[0;34m\"calc(100% - 40px)\"\u001b[0m\u001b[0;34m\u001b[0m\u001b[0;34m\u001b[0m\u001b[0m\n\u001b[1;32m     64\u001b[0m \u001b[0;34m\u001b[0m\u001b[0m\n",
      "\u001b[0;31mAttributeError\u001b[0m: module 'ipywidgets' has no attribute 'GridspecLayout'"
     ]
    },
    {
     "data": {
      "text/plain": [
       "<pandas_visual_analysis.visual_analysis.VisualAnalysis at 0x7feee5fab990>"
      ]
     },
     "execution_count": 12,
     "metadata": {},
     "output_type": "execute_result"
    }
   ],
   "source": [
    "VisualAnalysis(df)"
   ]
  },
  {
   "cell_type": "code",
   "execution_count": 13,
   "metadata": {},
   "outputs": [
    {
     "name": "stdout",
     "output_type": "stream",
     "text": [
      "Collecting dtale\n",
      "\u001b[?25l  Downloading https://files.pythonhosted.org/packages/6d/ac/b3d30c878b4f460a02f67e8b51cf33ae1e1e54f5823a3a15ac6065edf17b/dtale-2.8.1-py2.py3-none-any.whl (12.8MB)\n",
      "\u001b[K     |████████████████████████████████| 12.8MB 23.6MB/s eta 0:00:01\n",
      "\u001b[?25hRequirement already satisfied: six in /usr/local/anaconda/lib/python3.7/site-packages (from dtale) (1.16.0)\n",
      "Collecting lz4; python_version > \"3.0\"\n",
      "\u001b[?25l  Downloading https://files.pythonhosted.org/packages/a6/83/b5e7406e9bb330c434b8eb851f25ac69ee19e01d457cf0dd50f741cd27f6/lz4-4.0.2-cp37-cp37m-manylinux_2_17_x86_64.manylinux2014_x86_64.whl (1.2MB)\n",
      "\u001b[K     |████████████████████████████████| 1.2MB 71.8MB/s eta 0:00:01\n",
      "\u001b[?25hRequirement already satisfied: numpy; python_version >= \"3.0\" in /home/ubuntu/.local/lib/python3.7/site-packages (from dtale) (1.21.6)\n",
      "Requirement already satisfied: matplotlib==3.5.3; python_version == \"3.7\" in /usr/local/anaconda/lib/python3.7/site-packages (from dtale) (3.5.3)\n",
      "Collecting flask-ngrok; python_version > \"3.0\"\n",
      "  Downloading https://files.pythonhosted.org/packages/af/6c/f54cb686ad1129e27d125d182f90f52b32f284e6c8df58c1bae54fa1adbc/flask_ngrok-0.0.25-py3-none-any.whl\n",
      "Collecting kaleido; python_version > \"3.6\"\n",
      "\u001b[?25l  Downloading https://files.pythonhosted.org/packages/ae/b3/a0f0f4faac229b0011d8c4a7ee6da7c2dca0b6fd08039c95920846f23ca4/kaleido-0.2.1-py2.py3-none-manylinux1_x86_64.whl (79.9MB)\n",
      "\u001b[K     |████████████████████████████████| 79.9MB 469kB/s  eta 0:00:01\n",
      "\u001b[?25hCollecting dash-bootstrap-components; python_version > \"3.0\"\n",
      "\u001b[?25l  Downloading https://files.pythonhosted.org/packages/84/03/1e8fd2cb4cb334593f1c73a7035aad6358261f7f199156d26047f21cdb74/dash_bootstrap_components-1.2.1-py3-none-any.whl (216kB)\n",
      "\u001b[K     |████████████████████████████████| 225kB 75.2MB/s eta 0:00:01\n",
      "\u001b[?25hRequirement already satisfied: Flask-Compress in /usr/local/anaconda/lib/python3.7/site-packages (from dtale) (1.4.0)\n",
      "Requirement already satisfied: plotly>=5.0.0; python_version >= \"3.6\" in /home/ubuntu/.local/lib/python3.7/site-packages (from dtale) (5.10.0)\n",
      "Requirement already satisfied: requests; python_version >= \"3.6\" in /usr/local/anaconda/lib/python3.7/site-packages (from dtale) (2.28.1)\n",
      "Requirement already satisfied: itsdangerous; python_version >= \"3.7\" in /usr/local/anaconda/lib/python3.7/site-packages (from dtale) (1.1.0)\n",
      "Requirement already satisfied: cycler; python_version > \"3.0\" in /usr/local/anaconda/lib/python3.7/site-packages (from dtale) (0.10.0)\n",
      "Collecting missingno<=0.4.2\n",
      "  Downloading https://files.pythonhosted.org/packages/2b/de/6e4dd6d720c49939544352155dc06a08c9f7e4271aa631a559dfbeaaf9d4/missingno-0.4.2-py3-none-any.whl\n",
      "Collecting statsmodels==0.12.2; python_version == \"3.7\"\n",
      "\u001b[?25l  Downloading https://files.pythonhosted.org/packages/da/69/8eef30a6237c54f3c0b524140e2975f4b1eea3489b45eb3339574fc8acee/statsmodels-0.12.2-cp37-cp37m-manylinux1_x86_64.whl (9.5MB)\n",
      "\u001b[K     |████████████████████████████████| 9.5MB 70.7MB/s eta 0:00:01\n",
      "\u001b[?25hCollecting squarify\n",
      "  Downloading https://files.pythonhosted.org/packages/0b/2b/2e77c35326efec19819cd1d729540d4d235e6c2a3f37658288a363a67da5/squarify-0.4.3-py3-none-any.whl\n",
      "Requirement already satisfied: scipy==1.7.3; python_version == \"3.7\" in /usr/local/anaconda/lib/python3.7/site-packages (from dtale) (1.7.3)\n",
      "Collecting dash-daq\n",
      "\u001b[?25l  Downloading https://files.pythonhosted.org/packages/16/c1/9c6adfc3646990965a5b2ca073f579cc9c09d15553fcfcd83aefd1255494/dash_daq-0.5.0.tar.gz (642kB)\n",
      "\u001b[K     |████████████████████████████████| 645kB 66.3MB/s eta 0:00:01\n",
      "\u001b[31m    ERROR: Command errored out with exit status 1:\n",
      "     command: /usr/local/anaconda/bin/python -c 'import sys, setuptools, tokenize; sys.argv[0] = '\"'\"'/tmp/pip-install-6rpaypiz/dash-daq/setup.py'\"'\"'; __file__='\"'\"'/tmp/pip-install-6rpaypiz/dash-daq/setup.py'\"'\"';f=getattr(tokenize, '\"'\"'open'\"'\"', open)(__file__);code=f.read().replace('\"'\"'\\r\\n'\"'\"', '\"'\"'\\n'\"'\"');f.close();exec(compile(code, __file__, '\"'\"'exec'\"'\"'))' egg_info --egg-base /tmp/pip-install-6rpaypiz/dash-daq/pip-egg-info\n",
      "         cwd: /tmp/pip-install-6rpaypiz/dash-daq/\n",
      "    Complete output (24 lines):\n",
      "    /home/ubuntu/.local/lib/python3.7/site-packages/setuptools/_importlib.py:23: UserWarning: `importlib-metadata` version is incompatible with `setuptools`.\n",
      "    This problem is likely to be solved by installing an updated version of `importlib-metadata`.\n",
      "      warnings.warn(msg)  # Ensure a descriptive message is shown.\n",
      "    Traceback (most recent call last):\n",
      "      File \"<string>\", line 1, in <module>\n",
      "      File \"/home/ubuntu/.local/lib/python3.7/site-packages/setuptools/__init__.py\", line 18, in <module>\n",
      "        from setuptools.dist import Distribution\n",
      "      File \"/home/ubuntu/.local/lib/python3.7/site-packages/setuptools/dist.py\", line 34, in <module>\n",
      "        from ._importlib import metadata\n",
      "      File \"/home/ubuntu/.local/lib/python3.7/site-packages/setuptools/_importlib.py\", line 39, in <module>\n",
      "        disable_importlib_metadata_finder(metadata)\n",
      "      File \"/home/ubuntu/.local/lib/python3.7/site-packages/setuptools/_importlib.py\", line 12, in disable_importlib_metadata_finder\n",
      "        import importlib_metadata\n",
      "      File \"/usr/local/anaconda/lib/python3.7/site-packages/importlib_metadata/__init__.py\", line 17, in <module>\n",
      "        __version__ = version(__name__)\n",
      "      File \"/usr/local/anaconda/lib/python3.7/site-packages/importlib_metadata/api.py\", line 345, in version\n",
      "        return distribution(package).version\n",
      "      File \"/usr/local/anaconda/lib/python3.7/site-packages/importlib_metadata/api.py\", line 310, in distribution\n",
      "        return Distribution.from_name(package)\n",
      "      File \"/usr/local/anaconda/lib/python3.7/site-packages/importlib_metadata/api.py\", line 153, in from_name\n",
      "        dists = resolver(name)\n",
      "      File \"/home/ubuntu/.local/lib/python3.7/site-packages/setuptools/_vendor/importlib_metadata/__init__.py\", line 886, in find_distributions\n",
      "        found = self._search_paths(context.name, context.path)\n",
      "    AttributeError: 'str' object has no attribute 'name'\n",
      "    ----------------------------------------\u001b[0m\n",
      "\u001b[31mERROR: Command errored out with exit status 1: python setup.py egg_info Check the logs for full command output.\u001b[0m\n",
      "\u001b[?25h"
     ]
    }
   ],
   "source": [
    "!pip install --user dtale"
   ]
  },
  {
   "cell_type": "code",
   "execution_count": 15,
   "metadata": {},
   "outputs": [
    {
     "name": "stdout",
     "output_type": "stream",
     "text": [
      "Collecting dataprep\n",
      "\u001b[?25l  Downloading https://files.pythonhosted.org/packages/fd/a4/41f35c4ec9a3538c8595c12c9306e4657b2a028bc5813ab209379bd459d6/dataprep-0.4.3-py3-none-any.whl (9.5MB)\n",
      "\u001b[K     |████████████████████████████████| 9.5MB 27.0MB/s eta 0:00:01\n",
      "\u001b[?25hRequirement already satisfied: aiohttp<4.0,>=3.6 in /usr/local/anaconda/lib/python3.7/site-packages (from dataprep) (3.6.2)\n",
      "Collecting nltk<4.0.0,>=3.6.7\n",
      "\u001b[?25l  Downloading https://files.pythonhosted.org/packages/43/0b/8298798bc5a9a007b7cae3f846a3d9a325953e0f9c238affa478b4d59324/nltk-3.7-py3-none-any.whl (1.5MB)\n",
      "\u001b[K     |████████████████████████████████| 1.5MB 39.3MB/s eta 0:00:01\n",
      "\u001b[?25hCollecting pystache<0.7.0,>=0.6.0\n",
      "\u001b[?25l  Downloading https://files.pythonhosted.org/packages/3f/e7/8750ba6c6101d6aa5ceeb20c013adf2c6f3554a12c71d75654b468404bfa/pystache-0.6.0.tar.gz (78kB)\n",
      "\u001b[K     |████████████████████████████████| 81kB 16.9MB/s eta 0:00:01\n",
      "\u001b[?25h  Installing build dependencies ... \u001b[?25ldone\n",
      "\u001b[?25h  Getting requirements to build wheel ... \u001b[?25ldone\n",
      "\u001b[?25h    Preparing wheel metadata ... \u001b[?25ldone\n",
      "\u001b[?25hCollecting python-crfsuite<0.10.0,>=0.9.7\n",
      "\u001b[?25l  Downloading https://files.pythonhosted.org/packages/16/c0/e61ec91560d34518a4986a29898f15248a226e7bf201ade882f5fda8f7c1/python_crfsuite-0.9.8-cp37-cp37m-manylinux_2_17_x86_64.manylinux2014_x86_64.whl (965kB)\n",
      "\u001b[K     |████████████████████████████████| 972kB 44.5MB/s eta 0:00:01\n",
      "\u001b[?25hCollecting sqlalchemy<2.0.0,>=1.4.32\n",
      "\u001b[?25l  Downloading https://files.pythonhosted.org/packages/07/0d/46d1a6c25fce13d2c6892e9a203d4baae3058cb04396915365d621965f95/SQLAlchemy-1.4.41-cp37-cp37m-manylinux_2_5_x86_64.manylinux1_x86_64.manylinux_2_17_x86_64.manylinux2014_x86_64.whl (1.6MB)\n",
      "\u001b[K     |████████████████████████████████| 1.6MB 47.0MB/s eta 0:00:01\n",
      "\u001b[?25hCollecting scipy<=1.7.1\n",
      "\u001b[?25l  Downloading https://files.pythonhosted.org/packages/b5/6b/8bc0b61ebf824f8c3979a31368bbe38dd247590049a994ab0ed077cb56dc/scipy-1.7.1-cp37-cp37m-manylinux_2_5_x86_64.manylinux1_x86_64.whl (28.5MB)\n",
      "\u001b[K     |████████████████████████████████| 28.5MB 31.3MB/s eta 0:00:01    |▎                               | 276kB 31.3MB/s eta 0:00:01\n",
      "\u001b[?25hCollecting flask<3,>=2\n",
      "\u001b[?25l  Downloading https://files.pythonhosted.org/packages/0f/43/15f4f9ab225b0b25352412e8daa3d0e3d135fcf5e127070c74c3632c8b4c/Flask-2.2.2-py3-none-any.whl (101kB)\n",
      "\u001b[K     |████████████████████████████████| 102kB 21.6MB/s ta 0:00:01\n",
      "\u001b[?25hCollecting dask[array,dataframe,delayed]<2022.0,>=2021.11\n",
      "\u001b[?25l  Downloading https://files.pythonhosted.org/packages/15/6d/99c63be3ea8a4a651d845addeea1f1b3bb8e5c6730bc26cfb6176631adf7/dask-2021.12.0-py3-none-any.whl (1.0MB)\n",
      "\u001b[K     |████████████████████████████████| 1.0MB 44.3MB/s eta 0:00:01\n",
      "\u001b[?25hRequirement already satisfied: jinja2<4,>=3 in /usr/local/anaconda/lib/python3.7/site-packages (from dataprep) (3.1.2)\n",
      "Collecting metaphone<0.7,>=0.6\n",
      "  Downloading https://files.pythonhosted.org/packages/d4/ae/c9e4d007e32a6469be212da11d0b8e104d643f6f247d771742caf6ac6bb8/Metaphone-0.6.tar.gz\n",
      "\u001b[31m    ERROR: Command errored out with exit status 1:\n",
      "     command: /usr/local/anaconda/bin/python -c 'import sys, setuptools, tokenize; sys.argv[0] = '\"'\"'/tmp/pip-install-9qb0eow0/metaphone/setup.py'\"'\"'; __file__='\"'\"'/tmp/pip-install-9qb0eow0/metaphone/setup.py'\"'\"';f=getattr(tokenize, '\"'\"'open'\"'\"', open)(__file__);code=f.read().replace('\"'\"'\\r\\n'\"'\"', '\"'\"'\\n'\"'\"');f.close();exec(compile(code, __file__, '\"'\"'exec'\"'\"'))' egg_info --egg-base /tmp/pip-install-9qb0eow0/metaphone/pip-egg-info\n",
      "         cwd: /tmp/pip-install-9qb0eow0/metaphone/\n",
      "    Complete output (24 lines):\n",
      "    /home/ubuntu/.local/lib/python3.7/site-packages/setuptools/_importlib.py:23: UserWarning: `importlib-metadata` version is incompatible with `setuptools`.\n",
      "    This problem is likely to be solved by installing an updated version of `importlib-metadata`.\n",
      "      warnings.warn(msg)  # Ensure a descriptive message is shown.\n",
      "    Traceback (most recent call last):\n",
      "      File \"<string>\", line 1, in <module>\n",
      "      File \"/home/ubuntu/.local/lib/python3.7/site-packages/setuptools/__init__.py\", line 18, in <module>\n",
      "        from setuptools.dist import Distribution\n",
      "      File \"/home/ubuntu/.local/lib/python3.7/site-packages/setuptools/dist.py\", line 34, in <module>\n",
      "        from ._importlib import metadata\n",
      "      File \"/home/ubuntu/.local/lib/python3.7/site-packages/setuptools/_importlib.py\", line 39, in <module>\n",
      "        disable_importlib_metadata_finder(metadata)\n",
      "      File \"/home/ubuntu/.local/lib/python3.7/site-packages/setuptools/_importlib.py\", line 12, in disable_importlib_metadata_finder\n",
      "        import importlib_metadata\n",
      "      File \"/usr/local/anaconda/lib/python3.7/site-packages/importlib_metadata/__init__.py\", line 17, in <module>\n",
      "        __version__ = version(__name__)\n",
      "      File \"/usr/local/anaconda/lib/python3.7/site-packages/importlib_metadata/api.py\", line 345, in version\n",
      "        return distribution(package).version\n",
      "      File \"/usr/local/anaconda/lib/python3.7/site-packages/importlib_metadata/api.py\", line 310, in distribution\n",
      "        return Distribution.from_name(package)\n",
      "      File \"/usr/local/anaconda/lib/python3.7/site-packages/importlib_metadata/api.py\", line 153, in from_name\n",
      "        dists = resolver(name)\n",
      "      File \"/home/ubuntu/.local/lib/python3.7/site-packages/setuptools/_vendor/importlib_metadata/__init__.py\", line 886, in find_distributions\n",
      "        found = self._search_paths(context.name, context.path)\n",
      "    AttributeError: 'str' object has no attribute 'name'\n",
      "    ----------------------------------------\u001b[0m\n",
      "\u001b[31mERROR: Command errored out with exit status 1: python setup.py egg_info Check the logs for full command output.\u001b[0m\n"
     ]
    }
   ],
   "source": [
    "!pip install --user dataprep"
   ]
  },
  {
   "cell_type": "code",
   "execution_count": 16,
   "metadata": {},
   "outputs": [
    {
     "name": "stdout",
     "output_type": "stream",
     "text": [
      "Collecting lux\n",
      "  Downloading https://files.pythonhosted.org/packages/be/d6/77f0e407cb357d2391d1f90c275ce4d6b093d95d3b52ca82c5737ae1f347/lux-0.5.1.tar.gz\n",
      "\u001b[31m    ERROR: Command errored out with exit status 1:\n",
      "     command: /usr/local/anaconda/bin/python -c 'import sys, setuptools, tokenize; sys.argv[0] = '\"'\"'/tmp/pip-install-wixd7oif/lux/setup.py'\"'\"'; __file__='\"'\"'/tmp/pip-install-wixd7oif/lux/setup.py'\"'\"';f=getattr(tokenize, '\"'\"'open'\"'\"', open)(__file__);code=f.read().replace('\"'\"'\\r\\n'\"'\"', '\"'\"'\\n'\"'\"');f.close();exec(compile(code, __file__, '\"'\"'exec'\"'\"'))' egg_info --egg-base /tmp/pip-install-wixd7oif/lux/pip-egg-info\n",
      "         cwd: /tmp/pip-install-wixd7oif/lux/\n",
      "    Complete output (24 lines):\n",
      "    /home/ubuntu/.local/lib/python3.7/site-packages/setuptools/_importlib.py:23: UserWarning: `importlib-metadata` version is incompatible with `setuptools`.\n",
      "    This problem is likely to be solved by installing an updated version of `importlib-metadata`.\n",
      "      warnings.warn(msg)  # Ensure a descriptive message is shown.\n",
      "    Traceback (most recent call last):\n",
      "      File \"<string>\", line 1, in <module>\n",
      "      File \"/home/ubuntu/.local/lib/python3.7/site-packages/setuptools/__init__.py\", line 18, in <module>\n",
      "        from setuptools.dist import Distribution\n",
      "      File \"/home/ubuntu/.local/lib/python3.7/site-packages/setuptools/dist.py\", line 34, in <module>\n",
      "        from ._importlib import metadata\n",
      "      File \"/home/ubuntu/.local/lib/python3.7/site-packages/setuptools/_importlib.py\", line 39, in <module>\n",
      "        disable_importlib_metadata_finder(metadata)\n",
      "      File \"/home/ubuntu/.local/lib/python3.7/site-packages/setuptools/_importlib.py\", line 12, in disable_importlib_metadata_finder\n",
      "        import importlib_metadata\n",
      "      File \"/usr/local/anaconda/lib/python3.7/site-packages/importlib_metadata/__init__.py\", line 17, in <module>\n",
      "        __version__ = version(__name__)\n",
      "      File \"/usr/local/anaconda/lib/python3.7/site-packages/importlib_metadata/api.py\", line 345, in version\n",
      "        return distribution(package).version\n",
      "      File \"/usr/local/anaconda/lib/python3.7/site-packages/importlib_metadata/api.py\", line 310, in distribution\n",
      "        return Distribution.from_name(package)\n",
      "      File \"/usr/local/anaconda/lib/python3.7/site-packages/importlib_metadata/api.py\", line 153, in from_name\n",
      "        dists = resolver(name)\n",
      "      File \"/home/ubuntu/.local/lib/python3.7/site-packages/setuptools/_vendor/importlib_metadata/__init__.py\", line 886, in find_distributions\n",
      "        found = self._search_paths(context.name, context.path)\n",
      "    AttributeError: 'str' object has no attribute 'name'\n",
      "    ----------------------------------------\u001b[0m\n",
      "\u001b[31mERROR: Command errored out with exit status 1: python setup.py egg_info Check the logs for full command output.\u001b[0m\n"
     ]
    }
   ],
   "source": [
    "!pip install --user lux"
   ]
  },
  {
   "cell_type": "code",
   "execution_count": 17,
   "metadata": {},
   "outputs": [
    {
     "name": "stdout",
     "output_type": "stream",
     "text": [
      "Collecting klib\n",
      "  Downloading https://files.pythonhosted.org/packages/8c/f1/4d25aa6cf418f09ec61ef788065e15882dafb0b356d8e01d5ba474efad1d/klib-1.0.1-py3-none-any.whl\n",
      "Requirement already satisfied: seaborn<0.12.0,>=0.11.1 in /usr/local/anaconda/lib/python3.7/site-packages (from klib) (0.11.2)\n",
      "Requirement already satisfied: pandas<2.0.0,>=1.1.2 in /usr/local/anaconda/lib/python3.7/site-packages (from klib) (1.3.5)\n",
      "Requirement already satisfied: Jinja2<4.0.0,>=3.0.3 in /usr/local/anaconda/lib/python3.7/site-packages (from klib) (3.1.2)\n",
      "Requirement already satisfied: numpy<2.0.0,>=1.16.3 in /home/ubuntu/.local/lib/python3.7/site-packages (from klib) (1.21.6)\n",
      "Requirement already satisfied: scipy<2.0.0,>=1.1.0 in /usr/local/anaconda/lib/python3.7/site-packages (from klib) (1.7.3)\n",
      "Requirement already satisfied: matplotlib<4.0.0,>=3.0.3 in /usr/local/anaconda/lib/python3.7/site-packages (from klib) (3.5.3)\n",
      "Requirement already satisfied: pytz>=2017.3 in /usr/local/anaconda/lib/python3.7/site-packages (from pandas<2.0.0,>=1.1.2->klib) (2018.9)\n",
      "Requirement already satisfied: python-dateutil>=2.7.3 in /usr/local/anaconda/lib/python3.7/site-packages (from pandas<2.0.0,>=1.1.2->klib) (2.8.0)\n",
      "Requirement already satisfied: MarkupSafe>=2.0 in /usr/local/anaconda/lib/python3.7/site-packages (from Jinja2<4.0.0,>=3.0.3->klib) (2.1.1)\n",
      "Requirement already satisfied: packaging>=20.0 in /usr/local/anaconda/lib/python3.7/site-packages (from matplotlib<4.0.0,>=3.0.3->klib) (21.3)\n",
      "Requirement already satisfied: pyparsing>=2.2.1 in /usr/local/anaconda/lib/python3.7/site-packages (from matplotlib<4.0.0,>=3.0.3->klib) (2.3.1)\n",
      "Requirement already satisfied: kiwisolver>=1.0.1 in /usr/local/anaconda/lib/python3.7/site-packages (from matplotlib<4.0.0,>=3.0.3->klib) (1.0.1)\n",
      "Requirement already satisfied: cycler>=0.10 in /usr/local/anaconda/lib/python3.7/site-packages (from matplotlib<4.0.0,>=3.0.3->klib) (0.10.0)\n",
      "Requirement already satisfied: pillow>=6.2.0 in /usr/local/anaconda/lib/python3.7/site-packages (from matplotlib<4.0.0,>=3.0.3->klib) (9.2.0)\n",
      "Requirement already satisfied: fonttools>=4.22.0 in /usr/local/anaconda/lib/python3.7/site-packages (from matplotlib<4.0.0,>=3.0.3->klib) (4.37.1)\n",
      "Requirement already satisfied: six>=1.5 in /usr/local/anaconda/lib/python3.7/site-packages (from python-dateutil>=2.7.3->pandas<2.0.0,>=1.1.2->klib) (1.16.0)\n",
      "Requirement already satisfied: setuptools in /home/ubuntu/.local/lib/python3.7/site-packages (from kiwisolver>=1.0.1->matplotlib<4.0.0,>=3.0.3->klib) (65.3.0)\n",
      "Installing collected packages: klib\n",
      "Successfully installed klib-1.0.1\n"
     ]
    }
   ],
   "source": [
    "!pip install --user klib"
   ]
  }
 ],
 "metadata": {
  "kernelspec": {
   "display_name": "Python 3",
   "language": "python",
   "name": "python3"
  },
  "language_info": {
   "codemirror_mode": {
    "name": "ipython",
    "version": 3
   },
   "file_extension": ".py",
   "mimetype": "text/x-python",
   "name": "python",
   "nbconvert_exporter": "python",
   "pygments_lexer": "ipython3",
   "version": "3.7.6"
  }
 },
 "nbformat": 4,
 "nbformat_minor": 1
}
